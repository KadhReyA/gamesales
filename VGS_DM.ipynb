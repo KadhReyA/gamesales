{
  "nbformat": 4,
  "nbformat_minor": 0,
  "metadata": {
    "colab": {
      "name": "VGS_DM.ipynb",
      "provenance": [],
      "collapsed_sections": [],
      "authorship_tag": "ABX9TyO4VjqFY1R8bO4pbj/4JeLp",
      "include_colab_link": true
    },
    "kernelspec": {
      "name": "python3",
      "display_name": "Python 3"
    }
  },
  "cells": [
    {
      "cell_type": "markdown",
      "metadata": {
        "id": "view-in-github",
        "colab_type": "text"
      },
      "source": [
        "<a href=\"https://colab.research.google.com/github/KadhReyA/gamesales/blob/master/VGS_DM.ipynb\" target=\"_parent\"><img src=\"https://colab.research.google.com/assets/colab-badge.svg\" alt=\"Open In Colab\"/></a>"
      ]
    },
    {
      "cell_type": "markdown",
      "metadata": {
        "id": "tVjK1p-fsfsd",
        "colab_type": "text"
      },
      "source": [
        "# **Import & Load CSV**"
      ]
    },
    {
      "cell_type": "code",
      "metadata": {
        "id": "8GbPfV0Myfko",
        "colab_type": "code",
        "colab": {}
      },
      "source": [
        "# Import Libary\n",
        "import matplotlib as mpl\n",
        "import matplotlib.pyplot as plt\n",
        "import numpy as np\n",
        "import os\n",
        "import pandas as pd"
      ],
      "execution_count": 0,
      "outputs": []
    },
    {
      "cell_type": "code",
      "metadata": {
        "id": "KskzSELyyi39",
        "colab_type": "code",
        "outputId": "998b7386-8fc2-4a5f-9c09-e03dfbdb7225",
        "colab": {
          "base_uri": "https://localhost:8080/",
          "height": 204
        }
      },
      "source": [
        "# Read CSV & Print CSV\n",
        "vgs_df = pd.read_csv(\"https://raw.githubusercontent.com/KadhReyA/gamesales/master/vgsales.csv\")\n",
        "vgs_df.head()"
      ],
      "execution_count": 2,
      "outputs": [
        {
          "output_type": "execute_result",
          "data": {
            "text/html": [
              "<div>\n",
              "<style scoped>\n",
              "    .dataframe tbody tr th:only-of-type {\n",
              "        vertical-align: middle;\n",
              "    }\n",
              "\n",
              "    .dataframe tbody tr th {\n",
              "        vertical-align: top;\n",
              "    }\n",
              "\n",
              "    .dataframe thead th {\n",
              "        text-align: right;\n",
              "    }\n",
              "</style>\n",
              "<table border=\"1\" class=\"dataframe\">\n",
              "  <thead>\n",
              "    <tr style=\"text-align: right;\">\n",
              "      <th></th>\n",
              "      <th>Rank</th>\n",
              "      <th>Name</th>\n",
              "      <th>Platform</th>\n",
              "      <th>Year</th>\n",
              "      <th>Genre</th>\n",
              "      <th>Publisher</th>\n",
              "      <th>NA_Sales</th>\n",
              "      <th>EU_Sales</th>\n",
              "      <th>JP_Sales</th>\n",
              "      <th>Other_Sales</th>\n",
              "      <th>Global_Sales</th>\n",
              "    </tr>\n",
              "  </thead>\n",
              "  <tbody>\n",
              "    <tr>\n",
              "      <th>0</th>\n",
              "      <td>1</td>\n",
              "      <td>Wii Sports</td>\n",
              "      <td>Wii</td>\n",
              "      <td>2006.0</td>\n",
              "      <td>Sports</td>\n",
              "      <td>Nintendo</td>\n",
              "      <td>41.49</td>\n",
              "      <td>29.02</td>\n",
              "      <td>3.77</td>\n",
              "      <td>8.46</td>\n",
              "      <td>82.74</td>\n",
              "    </tr>\n",
              "    <tr>\n",
              "      <th>1</th>\n",
              "      <td>2</td>\n",
              "      <td>Super Mario Bros.</td>\n",
              "      <td>NES</td>\n",
              "      <td>1985.0</td>\n",
              "      <td>Platform</td>\n",
              "      <td>Nintendo</td>\n",
              "      <td>29.08</td>\n",
              "      <td>3.58</td>\n",
              "      <td>6.81</td>\n",
              "      <td>0.77</td>\n",
              "      <td>40.24</td>\n",
              "    </tr>\n",
              "    <tr>\n",
              "      <th>2</th>\n",
              "      <td>3</td>\n",
              "      <td>Mario Kart Wii</td>\n",
              "      <td>Wii</td>\n",
              "      <td>2008.0</td>\n",
              "      <td>Racing</td>\n",
              "      <td>Nintendo</td>\n",
              "      <td>15.85</td>\n",
              "      <td>12.88</td>\n",
              "      <td>3.79</td>\n",
              "      <td>3.31</td>\n",
              "      <td>35.82</td>\n",
              "    </tr>\n",
              "    <tr>\n",
              "      <th>3</th>\n",
              "      <td>4</td>\n",
              "      <td>Wii Sports Resort</td>\n",
              "      <td>Wii</td>\n",
              "      <td>2009.0</td>\n",
              "      <td>Sports</td>\n",
              "      <td>Nintendo</td>\n",
              "      <td>15.75</td>\n",
              "      <td>11.01</td>\n",
              "      <td>3.28</td>\n",
              "      <td>2.96</td>\n",
              "      <td>33.00</td>\n",
              "    </tr>\n",
              "    <tr>\n",
              "      <th>4</th>\n",
              "      <td>5</td>\n",
              "      <td>Pokemon Red/Pokemon Blue</td>\n",
              "      <td>GB</td>\n",
              "      <td>1996.0</td>\n",
              "      <td>Role-Playing</td>\n",
              "      <td>Nintendo</td>\n",
              "      <td>11.27</td>\n",
              "      <td>8.89</td>\n",
              "      <td>10.22</td>\n",
              "      <td>1.00</td>\n",
              "      <td>31.37</td>\n",
              "    </tr>\n",
              "  </tbody>\n",
              "</table>\n",
              "</div>"
            ],
            "text/plain": [
              "   Rank                      Name Platform  ...  JP_Sales Other_Sales Global_Sales\n",
              "0     1                Wii Sports      Wii  ...      3.77        8.46        82.74\n",
              "1     2         Super Mario Bros.      NES  ...      6.81        0.77        40.24\n",
              "2     3            Mario Kart Wii      Wii  ...      3.79        3.31        35.82\n",
              "3     4         Wii Sports Resort      Wii  ...      3.28        2.96        33.00\n",
              "4     5  Pokemon Red/Pokemon Blue       GB  ...     10.22        1.00        31.37\n",
              "\n",
              "[5 rows x 11 columns]"
            ]
          },
          "metadata": {
            "tags": []
          },
          "execution_count": 2
        }
      ]
    },
    {
      "cell_type": "markdown",
      "metadata": {
        "id": "aYqM3bWeslRp",
        "colab_type": "text"
      },
      "source": [
        "# **Data Check**"
      ]
    },
    {
      "cell_type": "code",
      "metadata": {
        "id": "rVIxUSh9y4Pv",
        "colab_type": "code",
        "outputId": "04599974-7e46-40df-ff94-480467c52b9a",
        "colab": {
          "base_uri": "https://localhost:8080/",
          "height": 453
        }
      },
      "source": [
        "# Locate Games based on Platform\n",
        "vgs_df.loc[vgs_df['Platform'] == \"Wii\"]"
      ],
      "execution_count": 3,
      "outputs": [
        {
          "output_type": "execute_result",
          "data": {
            "text/html": [
              "<div>\n",
              "<style scoped>\n",
              "    .dataframe tbody tr th:only-of-type {\n",
              "        vertical-align: middle;\n",
              "    }\n",
              "\n",
              "    .dataframe tbody tr th {\n",
              "        vertical-align: top;\n",
              "    }\n",
              "\n",
              "    .dataframe thead th {\n",
              "        text-align: right;\n",
              "    }\n",
              "</style>\n",
              "<table border=\"1\" class=\"dataframe\">\n",
              "  <thead>\n",
              "    <tr style=\"text-align: right;\">\n",
              "      <th></th>\n",
              "      <th>Rank</th>\n",
              "      <th>Name</th>\n",
              "      <th>Platform</th>\n",
              "      <th>Year</th>\n",
              "      <th>Genre</th>\n",
              "      <th>Publisher</th>\n",
              "      <th>NA_Sales</th>\n",
              "      <th>EU_Sales</th>\n",
              "      <th>JP_Sales</th>\n",
              "      <th>Other_Sales</th>\n",
              "      <th>Global_Sales</th>\n",
              "    </tr>\n",
              "  </thead>\n",
              "  <tbody>\n",
              "    <tr>\n",
              "      <th>0</th>\n",
              "      <td>1</td>\n",
              "      <td>Wii Sports</td>\n",
              "      <td>Wii</td>\n",
              "      <td>2006.0</td>\n",
              "      <td>Sports</td>\n",
              "      <td>Nintendo</td>\n",
              "      <td>41.49</td>\n",
              "      <td>29.02</td>\n",
              "      <td>3.77</td>\n",
              "      <td>8.46</td>\n",
              "      <td>82.74</td>\n",
              "    </tr>\n",
              "    <tr>\n",
              "      <th>2</th>\n",
              "      <td>3</td>\n",
              "      <td>Mario Kart Wii</td>\n",
              "      <td>Wii</td>\n",
              "      <td>2008.0</td>\n",
              "      <td>Racing</td>\n",
              "      <td>Nintendo</td>\n",
              "      <td>15.85</td>\n",
              "      <td>12.88</td>\n",
              "      <td>3.79</td>\n",
              "      <td>3.31</td>\n",
              "      <td>35.82</td>\n",
              "    </tr>\n",
              "    <tr>\n",
              "      <th>3</th>\n",
              "      <td>4</td>\n",
              "      <td>Wii Sports Resort</td>\n",
              "      <td>Wii</td>\n",
              "      <td>2009.0</td>\n",
              "      <td>Sports</td>\n",
              "      <td>Nintendo</td>\n",
              "      <td>15.75</td>\n",
              "      <td>11.01</td>\n",
              "      <td>3.28</td>\n",
              "      <td>2.96</td>\n",
              "      <td>33.00</td>\n",
              "    </tr>\n",
              "    <tr>\n",
              "      <th>7</th>\n",
              "      <td>8</td>\n",
              "      <td>Wii Play</td>\n",
              "      <td>Wii</td>\n",
              "      <td>2006.0</td>\n",
              "      <td>Misc</td>\n",
              "      <td>Nintendo</td>\n",
              "      <td>14.03</td>\n",
              "      <td>9.20</td>\n",
              "      <td>2.93</td>\n",
              "      <td>2.85</td>\n",
              "      <td>29.02</td>\n",
              "    </tr>\n",
              "    <tr>\n",
              "      <th>8</th>\n",
              "      <td>9</td>\n",
              "      <td>New Super Mario Bros. Wii</td>\n",
              "      <td>Wii</td>\n",
              "      <td>2009.0</td>\n",
              "      <td>Platform</td>\n",
              "      <td>Nintendo</td>\n",
              "      <td>14.59</td>\n",
              "      <td>7.06</td>\n",
              "      <td>4.70</td>\n",
              "      <td>2.26</td>\n",
              "      <td>28.62</td>\n",
              "    </tr>\n",
              "    <tr>\n",
              "      <th>...</th>\n",
              "      <td>...</td>\n",
              "      <td>...</td>\n",
              "      <td>...</td>\n",
              "      <td>...</td>\n",
              "      <td>...</td>\n",
              "      <td>...</td>\n",
              "      <td>...</td>\n",
              "      <td>...</td>\n",
              "      <td>...</td>\n",
              "      <td>...</td>\n",
              "      <td>...</td>\n",
              "    </tr>\n",
              "    <tr>\n",
              "      <th>16517</th>\n",
              "      <td>16520</td>\n",
              "      <td>Teenage Mutant Ninja Turtles</td>\n",
              "      <td>Wii</td>\n",
              "      <td>2007.0</td>\n",
              "      <td>Action</td>\n",
              "      <td>Konami Digital Entertainment</td>\n",
              "      <td>0.00</td>\n",
              "      <td>0.01</td>\n",
              "      <td>0.00</td>\n",
              "      <td>0.00</td>\n",
              "      <td>0.01</td>\n",
              "    </tr>\n",
              "    <tr>\n",
              "      <th>16552</th>\n",
              "      <td>16555</td>\n",
              "      <td>Mahou Sensei Negima!? Neo-Pactio Fight!!</td>\n",
              "      <td>Wii</td>\n",
              "      <td>2007.0</td>\n",
              "      <td>Fighting</td>\n",
              "      <td>Marvelous Interactive</td>\n",
              "      <td>0.00</td>\n",
              "      <td>0.00</td>\n",
              "      <td>0.01</td>\n",
              "      <td>0.00</td>\n",
              "      <td>0.01</td>\n",
              "    </tr>\n",
              "    <tr>\n",
              "      <th>16573</th>\n",
              "      <td>16576</td>\n",
              "      <td>Mini Desktop Racing</td>\n",
              "      <td>Wii</td>\n",
              "      <td>2007.0</td>\n",
              "      <td>Racing</td>\n",
              "      <td>Popcorn Arcade</td>\n",
              "      <td>0.01</td>\n",
              "      <td>0.00</td>\n",
              "      <td>0.00</td>\n",
              "      <td>0.00</td>\n",
              "      <td>0.01</td>\n",
              "    </tr>\n",
              "    <tr>\n",
              "      <th>16574</th>\n",
              "      <td>16577</td>\n",
              "      <td>Yattaman Wii: BikkuriDokkiri Machine de Mou Ra...</td>\n",
              "      <td>Wii</td>\n",
              "      <td>2008.0</td>\n",
              "      <td>Racing</td>\n",
              "      <td>Takara Tomy</td>\n",
              "      <td>0.00</td>\n",
              "      <td>0.00</td>\n",
              "      <td>0.01</td>\n",
              "      <td>0.00</td>\n",
              "      <td>0.01</td>\n",
              "    </tr>\n",
              "    <tr>\n",
              "      <th>16581</th>\n",
              "      <td>16584</td>\n",
              "      <td>Fit &amp; Fun</td>\n",
              "      <td>Wii</td>\n",
              "      <td>2011.0</td>\n",
              "      <td>Sports</td>\n",
              "      <td>Unknown</td>\n",
              "      <td>0.00</td>\n",
              "      <td>0.01</td>\n",
              "      <td>0.00</td>\n",
              "      <td>0.00</td>\n",
              "      <td>0.01</td>\n",
              "    </tr>\n",
              "  </tbody>\n",
              "</table>\n",
              "<p>1325 rows × 11 columns</p>\n",
              "</div>"
            ],
            "text/plain": [
              "        Rank  ... Global_Sales\n",
              "0          1  ...        82.74\n",
              "2          3  ...        35.82\n",
              "3          4  ...        33.00\n",
              "7          8  ...        29.02\n",
              "8          9  ...        28.62\n",
              "...      ...  ...          ...\n",
              "16517  16520  ...         0.01\n",
              "16552  16555  ...         0.01\n",
              "16573  16576  ...         0.01\n",
              "16574  16577  ...         0.01\n",
              "16581  16584  ...         0.01\n",
              "\n",
              "[1325 rows x 11 columns]"
            ]
          },
          "metadata": {
            "tags": []
          },
          "execution_count": 3
        }
      ]
    },
    {
      "cell_type": "code",
      "metadata": {
        "colab_type": "code",
        "outputId": "17ec4200-f715-4ac8-9f8d-1ca3cd3ea4e5",
        "id": "uKBRAuQ0zeqq",
        "colab": {
          "base_uri": "https://localhost:8080/",
          "height": 419
        }
      },
      "source": [
        "# Locate Games based on Genre\n",
        "vgs_df.loc[vgs_df['Genre'] == \"Platform\"]"
      ],
      "execution_count": 4,
      "outputs": [
        {
          "output_type": "execute_result",
          "data": {
            "text/html": [
              "<div>\n",
              "<style scoped>\n",
              "    .dataframe tbody tr th:only-of-type {\n",
              "        vertical-align: middle;\n",
              "    }\n",
              "\n",
              "    .dataframe tbody tr th {\n",
              "        vertical-align: top;\n",
              "    }\n",
              "\n",
              "    .dataframe thead th {\n",
              "        text-align: right;\n",
              "    }\n",
              "</style>\n",
              "<table border=\"1\" class=\"dataframe\">\n",
              "  <thead>\n",
              "    <tr style=\"text-align: right;\">\n",
              "      <th></th>\n",
              "      <th>Rank</th>\n",
              "      <th>Name</th>\n",
              "      <th>Platform</th>\n",
              "      <th>Year</th>\n",
              "      <th>Genre</th>\n",
              "      <th>Publisher</th>\n",
              "      <th>NA_Sales</th>\n",
              "      <th>EU_Sales</th>\n",
              "      <th>JP_Sales</th>\n",
              "      <th>Other_Sales</th>\n",
              "      <th>Global_Sales</th>\n",
              "    </tr>\n",
              "  </thead>\n",
              "  <tbody>\n",
              "    <tr>\n",
              "      <th>1</th>\n",
              "      <td>2</td>\n",
              "      <td>Super Mario Bros.</td>\n",
              "      <td>NES</td>\n",
              "      <td>1985.0</td>\n",
              "      <td>Platform</td>\n",
              "      <td>Nintendo</td>\n",
              "      <td>29.08</td>\n",
              "      <td>3.58</td>\n",
              "      <td>6.81</td>\n",
              "      <td>0.77</td>\n",
              "      <td>40.24</td>\n",
              "    </tr>\n",
              "    <tr>\n",
              "      <th>6</th>\n",
              "      <td>7</td>\n",
              "      <td>New Super Mario Bros.</td>\n",
              "      <td>DS</td>\n",
              "      <td>2006.0</td>\n",
              "      <td>Platform</td>\n",
              "      <td>Nintendo</td>\n",
              "      <td>11.38</td>\n",
              "      <td>9.23</td>\n",
              "      <td>6.50</td>\n",
              "      <td>2.90</td>\n",
              "      <td>30.01</td>\n",
              "    </tr>\n",
              "    <tr>\n",
              "      <th>8</th>\n",
              "      <td>9</td>\n",
              "      <td>New Super Mario Bros. Wii</td>\n",
              "      <td>Wii</td>\n",
              "      <td>2009.0</td>\n",
              "      <td>Platform</td>\n",
              "      <td>Nintendo</td>\n",
              "      <td>14.59</td>\n",
              "      <td>7.06</td>\n",
              "      <td>4.70</td>\n",
              "      <td>2.26</td>\n",
              "      <td>28.62</td>\n",
              "    </tr>\n",
              "    <tr>\n",
              "      <th>18</th>\n",
              "      <td>19</td>\n",
              "      <td>Super Mario World</td>\n",
              "      <td>SNES</td>\n",
              "      <td>1990.0</td>\n",
              "      <td>Platform</td>\n",
              "      <td>Nintendo</td>\n",
              "      <td>12.78</td>\n",
              "      <td>3.75</td>\n",
              "      <td>3.54</td>\n",
              "      <td>0.55</td>\n",
              "      <td>20.61</td>\n",
              "    </tr>\n",
              "    <tr>\n",
              "      <th>21</th>\n",
              "      <td>22</td>\n",
              "      <td>Super Mario Land</td>\n",
              "      <td>GB</td>\n",
              "      <td>1989.0</td>\n",
              "      <td>Platform</td>\n",
              "      <td>Nintendo</td>\n",
              "      <td>10.83</td>\n",
              "      <td>2.71</td>\n",
              "      <td>4.18</td>\n",
              "      <td>0.42</td>\n",
              "      <td>18.14</td>\n",
              "    </tr>\n",
              "    <tr>\n",
              "      <th>...</th>\n",
              "      <td>...</td>\n",
              "      <td>...</td>\n",
              "      <td>...</td>\n",
              "      <td>...</td>\n",
              "      <td>...</td>\n",
              "      <td>...</td>\n",
              "      <td>...</td>\n",
              "      <td>...</td>\n",
              "      <td>...</td>\n",
              "      <td>...</td>\n",
              "      <td>...</td>\n",
              "    </tr>\n",
              "    <tr>\n",
              "      <th>16498</th>\n",
              "      <td>16501</td>\n",
              "      <td>The Land Before Time: Into the Mysterious Beyond</td>\n",
              "      <td>GBA</td>\n",
              "      <td>2006.0</td>\n",
              "      <td>Platform</td>\n",
              "      <td>Game Factory</td>\n",
              "      <td>0.01</td>\n",
              "      <td>0.00</td>\n",
              "      <td>0.00</td>\n",
              "      <td>0.00</td>\n",
              "      <td>0.01</td>\n",
              "    </tr>\n",
              "    <tr>\n",
              "      <th>16562</th>\n",
              "      <td>16565</td>\n",
              "      <td>Mighty No. 9</td>\n",
              "      <td>XOne</td>\n",
              "      <td>2016.0</td>\n",
              "      <td>Platform</td>\n",
              "      <td>Deep Silver</td>\n",
              "      <td>0.01</td>\n",
              "      <td>0.00</td>\n",
              "      <td>0.00</td>\n",
              "      <td>0.00</td>\n",
              "      <td>0.01</td>\n",
              "    </tr>\n",
              "    <tr>\n",
              "      <th>16565</th>\n",
              "      <td>16568</td>\n",
              "      <td>Teslagrad</td>\n",
              "      <td>PSV</td>\n",
              "      <td>2015.0</td>\n",
              "      <td>Platform</td>\n",
              "      <td>Rain Games</td>\n",
              "      <td>0.00</td>\n",
              "      <td>0.01</td>\n",
              "      <td>0.00</td>\n",
              "      <td>0.00</td>\n",
              "      <td>0.01</td>\n",
              "    </tr>\n",
              "    <tr>\n",
              "      <th>16593</th>\n",
              "      <td>16596</td>\n",
              "      <td>Woody Woodpecker in Crazy Castle 5</td>\n",
              "      <td>GBA</td>\n",
              "      <td>2002.0</td>\n",
              "      <td>Platform</td>\n",
              "      <td>Kemco</td>\n",
              "      <td>0.01</td>\n",
              "      <td>0.00</td>\n",
              "      <td>0.00</td>\n",
              "      <td>0.00</td>\n",
              "      <td>0.01</td>\n",
              "    </tr>\n",
              "    <tr>\n",
              "      <th>16597</th>\n",
              "      <td>16600</td>\n",
              "      <td>Spirits &amp; Spells</td>\n",
              "      <td>GBA</td>\n",
              "      <td>2003.0</td>\n",
              "      <td>Platform</td>\n",
              "      <td>Wanadoo</td>\n",
              "      <td>0.01</td>\n",
              "      <td>0.00</td>\n",
              "      <td>0.00</td>\n",
              "      <td>0.00</td>\n",
              "      <td>0.01</td>\n",
              "    </tr>\n",
              "  </tbody>\n",
              "</table>\n",
              "<p>886 rows × 11 columns</p>\n",
              "</div>"
            ],
            "text/plain": [
              "        Rank  ... Global_Sales\n",
              "1          2  ...        40.24\n",
              "6          7  ...        30.01\n",
              "8          9  ...        28.62\n",
              "18        19  ...        20.61\n",
              "21        22  ...        18.14\n",
              "...      ...  ...          ...\n",
              "16498  16501  ...         0.01\n",
              "16562  16565  ...         0.01\n",
              "16565  16568  ...         0.01\n",
              "16593  16596  ...         0.01\n",
              "16597  16600  ...         0.01\n",
              "\n",
              "[886 rows x 11 columns]"
            ]
          },
          "metadata": {
            "tags": []
          },
          "execution_count": 4
        }
      ]
    },
    {
      "cell_type": "code",
      "metadata": {
        "id": "e7MHdc2GznOa",
        "colab_type": "code",
        "outputId": "70028862-0a31-4a9c-c807-dff276d6a233",
        "colab": {
          "base_uri": "https://localhost:8080/",
          "height": 85
        }
      },
      "source": [
        "# Print all Platform\n",
        "vgs_df['Platform'].unique()"
      ],
      "execution_count": 5,
      "outputs": [
        {
          "output_type": "execute_result",
          "data": {
            "text/plain": [
              "array(['Wii', 'NES', 'GB', 'DS', 'X360', 'PS3', 'PS2', 'SNES', 'GBA',\n",
              "       '3DS', 'PS4', 'N64', 'PS', 'XB', 'PC', '2600', 'PSP', 'XOne', 'GC',\n",
              "       'WiiU', 'GEN', 'DC', 'PSV', 'SAT', 'SCD', 'WS', 'NG', 'TG16',\n",
              "       '3DO', 'GG', 'PCFX'], dtype=object)"
            ]
          },
          "metadata": {
            "tags": []
          },
          "execution_count": 5
        }
      ]
    },
    {
      "cell_type": "code",
      "metadata": {
        "id": "uVvw79Vk0YLa",
        "colab_type": "code",
        "outputId": "a4fc488f-c1e6-4cb9-bec0-b9a354bd3e2d",
        "colab": {
          "base_uri": "https://localhost:8080/",
          "height": 68
        }
      },
      "source": [
        "# Print all Genre\n",
        "vgs_df['Genre'].unique()"
      ],
      "execution_count": 6,
      "outputs": [
        {
          "output_type": "execute_result",
          "data": {
            "text/plain": [
              "array(['Sports', 'Platform', 'Racing', 'Role-Playing', 'Puzzle', 'Misc',\n",
              "       'Shooter', 'Simulation', 'Action', 'Fighting', 'Adventure',\n",
              "       'Strategy'], dtype=object)"
            ]
          },
          "metadata": {
            "tags": []
          },
          "execution_count": 6
        }
      ]
    },
    {
      "cell_type": "code",
      "metadata": {
        "id": "glDUXjWr22RS",
        "colab_type": "code",
        "outputId": "3d6e75d4-7110-46a3-c73f-aa311b3b6816",
        "colab": {
          "base_uri": "https://localhost:8080/",
          "height": 544
        }
      },
      "source": [
        "# Print total of Games in Platform\n",
        "for i in vgs_df['Platform'].unique():\n",
        "  print(i, end = ' ')\n",
        "  print(\"Games : \", vgs_df.Platform.loc[vgs_df['Platform'] == i].count())"
      ],
      "execution_count": 7,
      "outputs": [
        {
          "output_type": "stream",
          "text": [
            "Wii Games :  1325\n",
            "NES Games :  98\n",
            "GB Games :  98\n",
            "DS Games :  2163\n",
            "X360 Games :  1265\n",
            "PS3 Games :  1329\n",
            "PS2 Games :  2161\n",
            "SNES Games :  239\n",
            "GBA Games :  822\n",
            "3DS Games :  509\n",
            "PS4 Games :  336\n",
            "N64 Games :  319\n",
            "PS Games :  1196\n",
            "XB Games :  824\n",
            "PC Games :  960\n",
            "2600 Games :  133\n",
            "PSP Games :  1213\n",
            "XOne Games :  213\n",
            "GC Games :  556\n",
            "WiiU Games :  143\n",
            "GEN Games :  27\n",
            "DC Games :  52\n",
            "PSV Games :  413\n",
            "SAT Games :  173\n",
            "SCD Games :  6\n",
            "WS Games :  6\n",
            "NG Games :  12\n",
            "TG16 Games :  2\n",
            "3DO Games :  3\n",
            "GG Games :  1\n",
            "PCFX Games :  1\n"
          ],
          "name": "stdout"
        }
      ]
    },
    {
      "cell_type": "code",
      "metadata": {
        "id": "u1wrnFOkb6rQ",
        "colab_type": "code",
        "outputId": "ae647be1-49b6-4d1d-b319-44477615f728",
        "colab": {
          "base_uri": "https://localhost:8080/",
          "height": 221
        }
      },
      "source": [
        "# Print total of Games in Genre\n",
        "for i in vgs_df['Genre'].unique():\n",
        "  print(i, end = ' ')\n",
        "  print(\"Games : \", vgs_df.Platform.loc[vgs_df['Genre'] == i].count())"
      ],
      "execution_count": 8,
      "outputs": [
        {
          "output_type": "stream",
          "text": [
            "Sports Games :  2346\n",
            "Platform Games :  886\n",
            "Racing Games :  1249\n",
            "Role-Playing Games :  1488\n",
            "Puzzle Games :  582\n",
            "Misc Games :  1739\n",
            "Shooter Games :  1310\n",
            "Simulation Games :  867\n",
            "Action Games :  3316\n",
            "Fighting Games :  848\n",
            "Adventure Games :  1286\n",
            "Strategy Games :  681\n"
          ],
          "name": "stdout"
        }
      ]
    },
    {
      "cell_type": "markdown",
      "metadata": {
        "id": "Fdkw2o6VsUro",
        "colab_type": "text"
      },
      "source": [
        "# **Top Sales**"
      ]
    },
    {
      "cell_type": "code",
      "metadata": {
        "id": "37DvFwJAp_cw",
        "colab_type": "code",
        "colab": {}
      },
      "source": [
        "platform_sum = vgs_df.groupby('Platform')[['NA_Sales', 'EU_Sales', 'JP_Sales', 'Other_Sales', 'Global_Sales']].sum()"
      ],
      "execution_count": 0,
      "outputs": []
    },
    {
      "cell_type": "code",
      "metadata": {
        "id": "jYQ3EmaNrTiY",
        "colab_type": "code",
        "colab": {
          "base_uri": "https://localhost:8080/",
          "height": 266
        },
        "outputId": "bdff16d8-35ba-409c-fff2-7a7067c8c65d"
      },
      "source": [
        "platform_sum.loc[sales_sum['Global_Sales'] > 500]"
      ],
      "execution_count": 18,
      "outputs": [
        {
          "output_type": "execute_result",
          "data": {
            "text/html": [
              "<div>\n",
              "<style scoped>\n",
              "    .dataframe tbody tr th:only-of-type {\n",
              "        vertical-align: middle;\n",
              "    }\n",
              "\n",
              "    .dataframe tbody tr th {\n",
              "        vertical-align: top;\n",
              "    }\n",
              "\n",
              "    .dataframe thead th {\n",
              "        text-align: right;\n",
              "    }\n",
              "</style>\n",
              "<table border=\"1\" class=\"dataframe\">\n",
              "  <thead>\n",
              "    <tr style=\"text-align: right;\">\n",
              "      <th></th>\n",
              "      <th>NA_Sales</th>\n",
              "      <th>EU_Sales</th>\n",
              "      <th>JP_Sales</th>\n",
              "      <th>Other_Sales</th>\n",
              "      <th>Global_Sales</th>\n",
              "    </tr>\n",
              "    <tr>\n",
              "      <th>Platform</th>\n",
              "      <th></th>\n",
              "      <th></th>\n",
              "      <th></th>\n",
              "      <th></th>\n",
              "      <th></th>\n",
              "    </tr>\n",
              "  </thead>\n",
              "  <tbody>\n",
              "    <tr>\n",
              "      <th>DS</th>\n",
              "      <td>390.71</td>\n",
              "      <td>194.65</td>\n",
              "      <td>175.57</td>\n",
              "      <td>60.53</td>\n",
              "      <td>822.49</td>\n",
              "    </tr>\n",
              "    <tr>\n",
              "      <th>PS</th>\n",
              "      <td>336.51</td>\n",
              "      <td>213.60</td>\n",
              "      <td>139.82</td>\n",
              "      <td>40.91</td>\n",
              "      <td>730.66</td>\n",
              "    </tr>\n",
              "    <tr>\n",
              "      <th>PS2</th>\n",
              "      <td>583.84</td>\n",
              "      <td>339.29</td>\n",
              "      <td>139.20</td>\n",
              "      <td>193.44</td>\n",
              "      <td>1255.64</td>\n",
              "    </tr>\n",
              "    <tr>\n",
              "      <th>PS3</th>\n",
              "      <td>392.26</td>\n",
              "      <td>343.71</td>\n",
              "      <td>79.99</td>\n",
              "      <td>141.93</td>\n",
              "      <td>957.84</td>\n",
              "    </tr>\n",
              "    <tr>\n",
              "      <th>Wii</th>\n",
              "      <td>507.71</td>\n",
              "      <td>268.38</td>\n",
              "      <td>69.35</td>\n",
              "      <td>80.61</td>\n",
              "      <td>926.71</td>\n",
              "    </tr>\n",
              "    <tr>\n",
              "      <th>X360</th>\n",
              "      <td>601.05</td>\n",
              "      <td>280.58</td>\n",
              "      <td>12.43</td>\n",
              "      <td>85.54</td>\n",
              "      <td>979.96</td>\n",
              "    </tr>\n",
              "  </tbody>\n",
              "</table>\n",
              "</div>"
            ],
            "text/plain": [
              "          NA_Sales  EU_Sales  JP_Sales  Other_Sales  Global_Sales\n",
              "Platform                                                         \n",
              "DS          390.71    194.65    175.57        60.53        822.49\n",
              "PS          336.51    213.60    139.82        40.91        730.66\n",
              "PS2         583.84    339.29    139.20       193.44       1255.64\n",
              "PS3         392.26    343.71     79.99       141.93        957.84\n",
              "Wii         507.71    268.38     69.35        80.61        926.71\n",
              "X360        601.05    280.58     12.43        85.54        979.96"
            ]
          },
          "metadata": {
            "tags": []
          },
          "execution_count": 18
        }
      ]
    },
    {
      "cell_type": "code",
      "metadata": {
        "id": "BfnpKmUocGmi",
        "colab_type": "code",
        "outputId": "14273140-f6f7-4c61-8784-58ddf2fe50a7",
        "colab": {
          "base_uri": "https://localhost:8080/",
          "height": 238
        }
      },
      "source": [
        "# Print total of Games in Genre\n",
        "print('Wii Games')\n",
        "for i in vgs_df['Genre'].unique():\n",
        "  print(i, end = ' ')\n",
        "  print(\"Games : \", vgs_df.Platform.loc[(vgs_df['Genre'] == i) & (vgs_df['Platform'] == 'Wii')].count())"
      ],
      "execution_count": 9,
      "outputs": [
        {
          "output_type": "stream",
          "text": [
            "Wii Games\n",
            "Sports Games :  261\n",
            "Platform Games :  58\n",
            "Racing Games :  94\n",
            "Role-Playing Games :  35\n",
            "Puzzle Games :  55\n",
            "Misc Games :  280\n",
            "Shooter Games :  66\n",
            "Simulation Games :  87\n",
            "Action Games :  238\n",
            "Fighting Games :  42\n",
            "Adventure Games :  84\n",
            "Strategy Games :  25\n"
          ],
          "name": "stdout"
        }
      ]
    },
    {
      "cell_type": "code",
      "metadata": {
        "id": "KkibCyMCrsi_",
        "colab_type": "code",
        "colab": {
          "base_uri": "https://localhost:8080/",
          "height": 238
        },
        "outputId": "8c845e38-aac5-4c65-85ba-a54756e78507"
      },
      "source": [
        "print('DS Games')\n",
        "for i in vgs_df['Genre'].unique():\n",
        "  print(i, end = ' ')\n",
        "  print(\"Games : \", vgs_df.Platform.loc[(vgs_df['Genre'] == i) & (vgs_df['Platform'] == 'DS')].count())"
      ],
      "execution_count": 19,
      "outputs": [
        {
          "output_type": "stream",
          "text": [
            "DS Games\n",
            "Sports Games :  148\n",
            "Platform Games :  92\n",
            "Racing Games :  67\n",
            "Role-Playing Games :  200\n",
            "Puzzle Games :  238\n",
            "Misc Games :  393\n",
            "Shooter Games :  42\n",
            "Simulation Games :  285\n",
            "Action Games :  343\n",
            "Fighting Games :  36\n",
            "Adventure Games :  240\n",
            "Strategy Games :  79\n"
          ],
          "name": "stdout"
        }
      ]
    },
    {
      "cell_type": "code",
      "metadata": {
        "id": "rAMsgQvvr4D_",
        "colab_type": "code",
        "colab": {
          "base_uri": "https://localhost:8080/",
          "height": 238
        },
        "outputId": "93141712-5032-46a0-f7e2-e21577a4a9b5"
      },
      "source": [
        "print('PS Games')\n",
        "for i in vgs_df['Genre'].unique():\n",
        "  print(i, end = ' ')\n",
        "  print(\"Games : \", vgs_df.Platform.loc[(vgs_df['Genre'] == i) & (vgs_df['Platform'] == 'PS')].count())"
      ],
      "execution_count": 20,
      "outputs": [
        {
          "output_type": "stream",
          "text": [
            "PS Games\n",
            "Sports Games :  222\n",
            "Platform Games :  64\n",
            "Racing Games :  145\n",
            "Role-Playing Games :  97\n",
            "Puzzle Games :  32\n",
            "Misc Games :  76\n",
            "Shooter Games :  96\n",
            "Simulation Games :  60\n",
            "Action Games :  157\n",
            "Fighting Games :  108\n",
            "Adventure Games :  69\n",
            "Strategy Games :  70\n"
          ],
          "name": "stdout"
        }
      ]
    },
    {
      "cell_type": "code",
      "metadata": {
        "id": "X2bV8z7SsApH",
        "colab_type": "code",
        "colab": {
          "base_uri": "https://localhost:8080/",
          "height": 238
        },
        "outputId": "6d974c40-7c09-4b51-b109-b8af33e18062"
      },
      "source": [
        "print('PS2 Games')\n",
        "for i in vgs_df['Genre'].unique():\n",
        "  print(i, end = ' ')\n",
        "  print(\"Games : \", vgs_df.Platform.loc[(vgs_df['Genre'] == i) & (vgs_df['Platform'] == 'PS2')].count())"
      ],
      "execution_count": 21,
      "outputs": [
        {
          "output_type": "stream",
          "text": [
            "PS2 Games\n",
            "Sports Games :  400\n",
            "Platform Games :  103\n",
            "Racing Games :  216\n",
            "Role-Playing Games :  187\n",
            "Puzzle Games :  18\n",
            "Misc Games :  222\n",
            "Shooter Games :  160\n",
            "Simulation Games :  90\n",
            "Action Games :  348\n",
            "Fighting Games :  150\n",
            "Adventure Games :  196\n",
            "Strategy Games :  71\n"
          ],
          "name": "stdout"
        }
      ]
    },
    {
      "cell_type": "code",
      "metadata": {
        "id": "j5lKnlAxsEUj",
        "colab_type": "code",
        "colab": {
          "base_uri": "https://localhost:8080/",
          "height": 238
        },
        "outputId": "e01e3c69-37f7-41d8-a088-cdff33ebdfc5"
      },
      "source": [
        "print('PS3 Games')\n",
        "for i in vgs_df['Genre'].unique():\n",
        "  print(i, end = ' ')\n",
        "  print(\"Games : \", vgs_df.Platform.loc[(vgs_df['Genre'] == i) & (vgs_df['Platform'] == 'PS3')].count())"
      ],
      "execution_count": 22,
      "outputs": [
        {
          "output_type": "stream",
          "text": [
            "PS3 Games\n",
            "Sports Games :  213\n",
            "Platform Games :  37\n",
            "Racing Games :  92\n",
            "Role-Playing Games :  119\n",
            "Puzzle Games :  3\n",
            "Misc Games :  124\n",
            "Shooter Games :  156\n",
            "Simulation Games :  31\n",
            "Action Games :  380\n",
            "Fighting Games :  76\n",
            "Adventure Games :  74\n",
            "Strategy Games :  24\n"
          ],
          "name": "stdout"
        }
      ]
    },
    {
      "cell_type": "code",
      "metadata": {
        "id": "ifzc1qMssIgZ",
        "colab_type": "code",
        "colab": {
          "base_uri": "https://localhost:8080/",
          "height": 238
        },
        "outputId": "4108edc8-54be-4cb7-bfb3-7c85a6b0a13e"
      },
      "source": [
        "print('X360 Games')\n",
        "for i in vgs_df['Genre'].unique():\n",
        "  print(i, end = ' ')\n",
        "  print(\"Games : \", vgs_df.Platform.loc[(vgs_df['Genre'] == i) & (vgs_df['Platform'] == 'X360')].count())"
      ],
      "execution_count": 23,
      "outputs": [
        {
          "output_type": "stream",
          "text": [
            "X360 Games\n",
            "Sports Games :  220\n",
            "Platform Games :  24\n",
            "Racing Games :  105\n",
            "Role-Playing Games :  76\n",
            "Puzzle Games :  7\n",
            "Misc Games :  126\n",
            "Shooter Games :  203\n",
            "Simulation Games :  40\n",
            "Action Games :  324\n",
            "Fighting Games :  65\n",
            "Adventure Games :  47\n",
            "Strategy Games :  28\n"
          ],
          "name": "stdout"
        }
      ]
    },
    {
      "cell_type": "code",
      "metadata": {
        "id": "BfY3WhnCt15V",
        "colab_type": "code",
        "colab": {}
      },
      "source": [
        "platform_genre_sum = vgs_df.groupby(['Platform', 'Genre'])[['NA_Sales', 'EU_Sales', 'JP_Sales', 'Other_Sales', 'Global_Sales']].sum()"
      ],
      "execution_count": 0,
      "outputs": []
    },
    {
      "cell_type": "code",
      "metadata": {
        "id": "4NtcA3XmuAN6",
        "colab_type": "code",
        "outputId": "7f861a7c-21df-4e11-9053-4961d01b1eb8",
        "colab": {
          "base_uri": "https://localhost:8080/",
          "height": 450
        }
      },
      "source": [
        "platform_genre_sum"
      ],
      "execution_count": 31,
      "outputs": [
        {
          "output_type": "execute_result",
          "data": {
            "text/html": [
              "<div>\n",
              "<style scoped>\n",
              "    .dataframe tbody tr th:only-of-type {\n",
              "        vertical-align: middle;\n",
              "    }\n",
              "\n",
              "    .dataframe tbody tr th {\n",
              "        vertical-align: top;\n",
              "    }\n",
              "\n",
              "    .dataframe thead th {\n",
              "        text-align: right;\n",
              "    }\n",
              "</style>\n",
              "<table border=\"1\" class=\"dataframe\">\n",
              "  <thead>\n",
              "    <tr style=\"text-align: right;\">\n",
              "      <th></th>\n",
              "      <th></th>\n",
              "      <th>NA_Sales</th>\n",
              "      <th>EU_Sales</th>\n",
              "      <th>JP_Sales</th>\n",
              "      <th>Other_Sales</th>\n",
              "      <th>Global_Sales</th>\n",
              "    </tr>\n",
              "    <tr>\n",
              "      <th>Platform</th>\n",
              "      <th>Genre</th>\n",
              "      <th></th>\n",
              "      <th></th>\n",
              "      <th></th>\n",
              "      <th></th>\n",
              "      <th></th>\n",
              "    </tr>\n",
              "  </thead>\n",
              "  <tbody>\n",
              "    <tr>\n",
              "      <th rowspan=\"5\" valign=\"top\">2600</th>\n",
              "      <th>Action</th>\n",
              "      <td>27.39</td>\n",
              "      <td>1.64</td>\n",
              "      <td>0.00</td>\n",
              "      <td>0.22</td>\n",
              "      <td>29.34</td>\n",
              "    </tr>\n",
              "    <tr>\n",
              "      <th>Adventure</th>\n",
              "      <td>1.59</td>\n",
              "      <td>0.10</td>\n",
              "      <td>0.00</td>\n",
              "      <td>0.01</td>\n",
              "      <td>1.70</td>\n",
              "    </tr>\n",
              "    <tr>\n",
              "      <th>Fighting</th>\n",
              "      <td>1.16</td>\n",
              "      <td>0.07</td>\n",
              "      <td>0.00</td>\n",
              "      <td>0.01</td>\n",
              "      <td>1.24</td>\n",
              "    </tr>\n",
              "    <tr>\n",
              "      <th>Misc</th>\n",
              "      <td>3.34</td>\n",
              "      <td>0.20</td>\n",
              "      <td>0.00</td>\n",
              "      <td>0.03</td>\n",
              "      <td>3.58</td>\n",
              "    </tr>\n",
              "    <tr>\n",
              "      <th>Platform</th>\n",
              "      <td>12.38</td>\n",
              "      <td>0.72</td>\n",
              "      <td>0.00</td>\n",
              "      <td>0.16</td>\n",
              "      <td>13.27</td>\n",
              "    </tr>\n",
              "    <tr>\n",
              "      <th>...</th>\n",
              "      <th>...</th>\n",
              "      <td>...</td>\n",
              "      <td>...</td>\n",
              "      <td>...</td>\n",
              "      <td>...</td>\n",
              "      <td>...</td>\n",
              "    </tr>\n",
              "    <tr>\n",
              "      <th rowspan=\"5\" valign=\"top\">XOne</th>\n",
              "      <th>Role-Playing</th>\n",
              "      <td>5.56</td>\n",
              "      <td>3.06</td>\n",
              "      <td>0.01</td>\n",
              "      <td>0.83</td>\n",
              "      <td>9.48</td>\n",
              "    </tr>\n",
              "    <tr>\n",
              "      <th>Shooter</th>\n",
              "      <td>31.78</td>\n",
              "      <td>15.27</td>\n",
              "      <td>0.16</td>\n",
              "      <td>4.38</td>\n",
              "      <td>51.61</td>\n",
              "    </tr>\n",
              "    <tr>\n",
              "      <th>Simulation</th>\n",
              "      <td>0.28</td>\n",
              "      <td>0.21</td>\n",
              "      <td>0.00</td>\n",
              "      <td>0.05</td>\n",
              "      <td>0.54</td>\n",
              "    </tr>\n",
              "    <tr>\n",
              "      <th>Sports</th>\n",
              "      <td>14.26</td>\n",
              "      <td>7.67</td>\n",
              "      <td>0.02</td>\n",
              "      <td>2.03</td>\n",
              "      <td>23.97</td>\n",
              "    </tr>\n",
              "    <tr>\n",
              "      <th>Strategy</th>\n",
              "      <td>0.26</td>\n",
              "      <td>0.10</td>\n",
              "      <td>0.00</td>\n",
              "      <td>0.03</td>\n",
              "      <td>0.38</td>\n",
              "    </tr>\n",
              "  </tbody>\n",
              "</table>\n",
              "<p>293 rows × 5 columns</p>\n",
              "</div>"
            ],
            "text/plain": [
              "                       NA_Sales  EU_Sales  JP_Sales  Other_Sales  Global_Sales\n",
              "Platform Genre                                                                \n",
              "2600     Action           27.39      1.64      0.00         0.22         29.34\n",
              "         Adventure         1.59      0.10      0.00         0.01          1.70\n",
              "         Fighting          1.16      0.07      0.00         0.01          1.24\n",
              "         Misc              3.34      0.20      0.00         0.03          3.58\n",
              "         Platform         12.38      0.72      0.00         0.16         13.27\n",
              "...                         ...       ...       ...          ...           ...\n",
              "XOne     Role-Playing      5.56      3.06      0.01         0.83          9.48\n",
              "         Shooter          31.78     15.27      0.16         4.38         51.61\n",
              "         Simulation        0.28      0.21      0.00         0.05          0.54\n",
              "         Sports           14.26      7.67      0.02         2.03         23.97\n",
              "         Strategy          0.26      0.10      0.00         0.03          0.38\n",
              "\n",
              "[293 rows x 5 columns]"
            ]
          },
          "metadata": {
            "tags": []
          },
          "execution_count": 31
        }
      ]
    },
    {
      "cell_type": "code",
      "metadata": {
        "id": "mDSb37-muMtS",
        "colab_type": "code",
        "colab": {}
      },
      "source": [
        "genre_sum = vgs_df.groupby('Genre')[['NA_Sales', 'EU_Sales', 'JP_Sales', 'Other_Sales', 'Global_Sales']].sum()"
      ],
      "execution_count": 0,
      "outputs": []
    },
    {
      "cell_type": "code",
      "metadata": {
        "id": "7qUCR9QiuROj",
        "colab_type": "code",
        "outputId": "a121bab0-23b4-4caa-9aec-4efe3bee2b9f",
        "colab": {
          "base_uri": "https://localhost:8080/",
          "height": 452
        }
      },
      "source": [
        "genre_sum"
      ],
      "execution_count": 33,
      "outputs": [
        {
          "output_type": "execute_result",
          "data": {
            "text/html": [
              "<div>\n",
              "<style scoped>\n",
              "    .dataframe tbody tr th:only-of-type {\n",
              "        vertical-align: middle;\n",
              "    }\n",
              "\n",
              "    .dataframe tbody tr th {\n",
              "        vertical-align: top;\n",
              "    }\n",
              "\n",
              "    .dataframe thead th {\n",
              "        text-align: right;\n",
              "    }\n",
              "</style>\n",
              "<table border=\"1\" class=\"dataframe\">\n",
              "  <thead>\n",
              "    <tr style=\"text-align: right;\">\n",
              "      <th></th>\n",
              "      <th>NA_Sales</th>\n",
              "      <th>EU_Sales</th>\n",
              "      <th>JP_Sales</th>\n",
              "      <th>Other_Sales</th>\n",
              "      <th>Global_Sales</th>\n",
              "    </tr>\n",
              "    <tr>\n",
              "      <th>Genre</th>\n",
              "      <th></th>\n",
              "      <th></th>\n",
              "      <th></th>\n",
              "      <th></th>\n",
              "      <th></th>\n",
              "    </tr>\n",
              "  </thead>\n",
              "  <tbody>\n",
              "    <tr>\n",
              "      <th>Action</th>\n",
              "      <td>877.83</td>\n",
              "      <td>525.00</td>\n",
              "      <td>159.95</td>\n",
              "      <td>187.38</td>\n",
              "      <td>1751.18</td>\n",
              "    </tr>\n",
              "    <tr>\n",
              "      <th>Adventure</th>\n",
              "      <td>105.80</td>\n",
              "      <td>64.13</td>\n",
              "      <td>52.07</td>\n",
              "      <td>16.81</td>\n",
              "      <td>239.04</td>\n",
              "    </tr>\n",
              "    <tr>\n",
              "      <th>Fighting</th>\n",
              "      <td>223.59</td>\n",
              "      <td>101.32</td>\n",
              "      <td>87.35</td>\n",
              "      <td>36.68</td>\n",
              "      <td>448.91</td>\n",
              "    </tr>\n",
              "    <tr>\n",
              "      <th>Misc</th>\n",
              "      <td>410.24</td>\n",
              "      <td>215.98</td>\n",
              "      <td>107.76</td>\n",
              "      <td>75.32</td>\n",
              "      <td>809.96</td>\n",
              "    </tr>\n",
              "    <tr>\n",
              "      <th>Platform</th>\n",
              "      <td>447.05</td>\n",
              "      <td>201.63</td>\n",
              "      <td>130.77</td>\n",
              "      <td>51.59</td>\n",
              "      <td>831.37</td>\n",
              "    </tr>\n",
              "    <tr>\n",
              "      <th>Puzzle</th>\n",
              "      <td>123.78</td>\n",
              "      <td>50.78</td>\n",
              "      <td>57.31</td>\n",
              "      <td>12.55</td>\n",
              "      <td>244.95</td>\n",
              "    </tr>\n",
              "    <tr>\n",
              "      <th>Racing</th>\n",
              "      <td>359.42</td>\n",
              "      <td>238.39</td>\n",
              "      <td>56.69</td>\n",
              "      <td>77.27</td>\n",
              "      <td>732.04</td>\n",
              "    </tr>\n",
              "    <tr>\n",
              "      <th>Role-Playing</th>\n",
              "      <td>327.28</td>\n",
              "      <td>188.06</td>\n",
              "      <td>352.31</td>\n",
              "      <td>59.61</td>\n",
              "      <td>927.37</td>\n",
              "    </tr>\n",
              "    <tr>\n",
              "      <th>Shooter</th>\n",
              "      <td>582.60</td>\n",
              "      <td>313.27</td>\n",
              "      <td>38.28</td>\n",
              "      <td>102.69</td>\n",
              "      <td>1037.37</td>\n",
              "    </tr>\n",
              "    <tr>\n",
              "      <th>Simulation</th>\n",
              "      <td>183.31</td>\n",
              "      <td>113.38</td>\n",
              "      <td>63.70</td>\n",
              "      <td>31.52</td>\n",
              "      <td>392.20</td>\n",
              "    </tr>\n",
              "    <tr>\n",
              "      <th>Sports</th>\n",
              "      <td>683.35</td>\n",
              "      <td>376.85</td>\n",
              "      <td>135.37</td>\n",
              "      <td>134.97</td>\n",
              "      <td>1330.93</td>\n",
              "    </tr>\n",
              "    <tr>\n",
              "      <th>Strategy</th>\n",
              "      <td>68.70</td>\n",
              "      <td>45.34</td>\n",
              "      <td>49.46</td>\n",
              "      <td>11.36</td>\n",
              "      <td>175.12</td>\n",
              "    </tr>\n",
              "  </tbody>\n",
              "</table>\n",
              "</div>"
            ],
            "text/plain": [
              "              NA_Sales  EU_Sales  JP_Sales  Other_Sales  Global_Sales\n",
              "Genre                                                                \n",
              "Action          877.83    525.00    159.95       187.38       1751.18\n",
              "Adventure       105.80     64.13     52.07        16.81        239.04\n",
              "Fighting        223.59    101.32     87.35        36.68        448.91\n",
              "Misc            410.24    215.98    107.76        75.32        809.96\n",
              "Platform        447.05    201.63    130.77        51.59        831.37\n",
              "Puzzle          123.78     50.78     57.31        12.55        244.95\n",
              "Racing          359.42    238.39     56.69        77.27        732.04\n",
              "Role-Playing    327.28    188.06    352.31        59.61        927.37\n",
              "Shooter         582.60    313.27     38.28       102.69       1037.37\n",
              "Simulation      183.31    113.38     63.70        31.52        392.20\n",
              "Sports          683.35    376.85    135.37       134.97       1330.93\n",
              "Strategy         68.70     45.34     49.46        11.36        175.12"
            ]
          },
          "metadata": {
            "tags": []
          },
          "execution_count": 33
        }
      ]
    }
  ]
}